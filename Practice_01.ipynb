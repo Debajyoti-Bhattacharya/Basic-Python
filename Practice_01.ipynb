{
 "cells": [
  {
   "cell_type": "markdown",
   "metadata": {},
   "source": [
    "# Factorial!\n",
    "### You have been given a positive integer N. You need to find and print the Factorial of this number. The Factorial of a positive integer N refers to the product of all number in the range from 1 to N. You can read more about the factorial of a number here.\n",
    "### Input Format: The first and only line of the input contains a single integer N denoting the number whose factorial you need to find.\n",
    "### Output Format: Output a single line denoting the factorial of the number N."
   ]
  },
  {
   "cell_type": "code",
   "execution_count": 10,
   "metadata": {},
   "outputs": [
    {
     "name": "stdout",
     "output_type": "stream",
     "text": [
      "5\n",
      "120\n"
     ]
    }
   ],
   "source": [
    "n =int(input())\n",
    "def factorial(n):\n",
    "    return 1 if n == 0 else n*factorial(n-1)\n",
    "print(factorial(n))"
   ]
  },
  {
   "cell_type": "markdown",
   "metadata": {},
   "source": [
    "# Marksheet :"
   ]
  },
  {
   "cell_type": "code",
   "execution_count": 16,
   "metadata": {},
   "outputs": [
    {
     "name": "stdout",
     "output_type": "stream",
     "text": [
      "Enter your marks:66.6\n",
      "B\n"
     ]
    }
   ],
   "source": [
    "marks = float(input(\"Enter your marks:\"))\n",
    "print('A' if marks>=80 else 'B' if marks>=60 and marks <=80 else 'C'if marks>=40 and marks <=60 else 'D' )"
   ]
  },
  {
   "cell_type": "code",
   "execution_count": 17,
   "metadata": {},
   "outputs": [
    {
     "name": "stdout",
     "output_type": "stream",
     "text": [
      "Enter your marks:62.3\n",
      "Grade = B\n"
     ]
    }
   ],
   "source": [
    "marks = float(input(\"Enter your marks:\"))\n",
    "if marks >=80 and marks <=100:\n",
    "    grade ='A'\n",
    "else:\n",
    "    if marks >=60 and marks <=79:\n",
    "         grade ='B'\n",
    "    else:\n",
    "        if marks >=40 and marks <=59:\n",
    "            grade ='C'\n",
    "        else:\n",
    "            grade = 'D'\n",
    "print(f'Grade = {grade}')"
   ]
  },
  {
   "cell_type": "code",
   "execution_count": 25,
   "metadata": {},
   "outputs": [
    {
     "name": "stdout",
     "output_type": "stream",
     "text": [
      "Enter your marks:55.5\n",
      "Grade = C\n"
     ]
    }
   ],
   "source": [
    "marks = float(input(\"Enter your marks:\"))\n",
    "if marks >=80 and marks <=100:\n",
    "    grade ='A'\n",
    "elif marks >=60 and marks <=79:\n",
    "    grade ='B'\n",
    "elif marks >=40 and marks <=59:\n",
    "    grade ='C'\n",
    "else:\n",
    "    grade = 'D'\n",
    "print(f'Grade = {grade}')"
   ]
  },
  {
   "cell_type": "code",
   "execution_count": 59,
   "metadata": {},
   "outputs": [
    {
     "name": "stdout",
     "output_type": "stream",
     "text": [
      "Enter your marks:93\n",
      "Grade = A\n"
     ]
    }
   ],
   "source": [
    "marks = float(input(\"Enter your marks:\"))\n",
    "if marks in range(80, 100):\n",
    "     grade ='A'\n",
    "elif marks in range(60, 79):\n",
    "    grade ='B'\n",
    "elif marks in range(40, 59):\n",
    "    grade = 'c'\n",
    "else:\n",
    "    grade = 'D'    \n",
    "print(f'Grade = {grade}')"
   ]
  },
  {
   "cell_type": "markdown",
   "metadata": {},
   "source": [
    "# SET :\n",
    "### A set is an unordered collection data type with no duplicate elements. Sets are iterable and mutable. The elements appear in an arbitrary order when sets are iterated.\n",
    "### Sets are commonly used for membership testing, removing duplicates entries, and also for operations such as intersection, union, and set difference."
   ]
  },
  {
   "cell_type": "code",
   "execution_count": 27,
   "metadata": {},
   "outputs": [
    {
     "name": "stdout",
     "output_type": "stream",
     "text": [
      "{1, 2, 3, 4, 5, 6, 7, 8, 9}\n"
     ]
    }
   ],
   "source": [
    "setA = set([9,8,7,6,5,4,3,2,1])\n",
    "print(setA)"
   ]
  },
  {
   "cell_type": "code",
   "execution_count": 37,
   "metadata": {},
   "outputs": [
    {
     "name": "stdout",
     "output_type": "stream",
     "text": [
      "{1, 2, 3, 4, 5, 6, 7, 8, 9}\n"
     ]
    }
   ],
   "source": [
    "setB = set([5,7,9,1,6,2,8,7,3,5,4,5,2])\n",
    "print(setB)"
   ]
  },
  {
   "cell_type": "code",
   "execution_count": 52,
   "metadata": {},
   "outputs": [
    {
     "name": "stdout",
     "output_type": "stream",
     "text": [
      "{1, 3, 5, 9}\n"
     ]
    }
   ],
   "source": [
    "setN = set ([3,1,5,9])\n",
    "print(setN)"
   ]
  },
  {
   "cell_type": "code",
   "execution_count": 53,
   "metadata": {},
   "outputs": [],
   "source": [
    "setN.add(8) # Python set add(element)"
   ]
  },
  {
   "cell_type": "code",
   "execution_count": 54,
   "metadata": {},
   "outputs": [
    {
     "name": "stdout",
     "output_type": "stream",
     "text": [
      "{1, 3, 5, 8, 9}\n"
     ]
    }
   ],
   "source": [
    "print(setN)"
   ]
  },
  {
   "cell_type": "code",
   "execution_count": 55,
   "metadata": {},
   "outputs": [
    {
     "name": "stdout",
     "output_type": "stream",
     "text": [
      "{1, 3, 8, 9}\n"
     ]
    }
   ],
   "source": [
    "setN.remove(5) # Using remove(element) Used to remove element from the set\n",
    "print(setN)"
   ]
  },
  {
   "cell_type": "code",
   "execution_count": 56,
   "metadata": {
    "scrolled": true
   },
   "outputs": [
    {
     "name": "stdout",
     "output_type": "stream",
     "text": [
      "{1, 3, 5, 9}\n",
      "{1, 3, 5, 8, 9}\n",
      "{1, 3, 8, 9}\n"
     ]
    }
   ],
   "source": [
    "setN = set ([3,1,5,9])\n",
    "print(setN)\n",
    "setN.add(8) # Python set add(element)\n",
    "print(setN)\n",
    "setN.remove(5) # Using remove(element) Used to remove element from the set\n",
    "print(setN)"
   ]
  },
  {
   "cell_type": "markdown",
   "metadata": {},
   "source": [
    "#  Python: Division\n",
    "\n"
   ]
  },
  {
   "cell_type": "code",
   "execution_count": 61,
   "metadata": {},
   "outputs": [
    {
     "name": "stdout",
     "output_type": "stream",
     "text": [
      "4\n",
      "3\n",
      "1\n",
      "1.3333333333333333\n"
     ]
    }
   ],
   "source": [
    "from __future__ import division\n",
    "a = int(input())\n",
    "b = int(input())\n",
    "\n",
    "intdiv = a//b\n",
    "floatdiv = a/b\n",
    "\n",
    "print(\"{0}\\n{1}\".format(intdiv,floatdiv))"
   ]
  },
  {
   "cell_type": "markdown",
   "metadata": {},
   "source": [
    "# Python Recursion:\n",
    "### Recursion is a method of breaking a problem into subproblems which are essentially of the same type as the original problem. You solve the base problems and then combine the results. Usually this involves the function calling itself."
   ]
  },
  {
   "cell_type": "markdown",
   "metadata": {},
   "source": [
    "# Fibbonacci Series\n",
    "### fibo(n) = 0 if n == 1\n",
    "### fibo(n) = 1 if n== 2\n",
    "### fibo(n-2) + fibo(n-1) Otherwise"
   ]
  },
  {
   "cell_type": "code",
   "execution_count": 62,
   "metadata": {},
   "outputs": [
    {
     "name": "stdout",
     "output_type": "stream",
     "text": [
      "Enter Value:5\n",
      "3\n"
     ]
    }
   ],
   "source": [
    "n =int(input(\"Enter Value:\"))\n",
    "def fibo(n):\n",
    "    return 0 if n ==1 else 1 if n == 2 else fibo(n-2) + fibo(n-1) \n",
    "print(fibo(n))"
   ]
  },
  {
   "cell_type": "markdown",
   "metadata": {},
   "source": [
    "# LOOPS\n",
    "### For and While\n",
    "### Counter Control Loop and sentinel Control Loop\n",
    "### CCL - Iterative and SCL - Number does not define here\n",
    "# Factorial! "
   ]
  },
  {
   "cell_type": "code",
   "execution_count": 65,
   "metadata": {},
   "outputs": [
    {
     "name": "stdout",
     "output_type": "stream",
     "text": [
      "Enter Value:5\n",
      "Factorial:120\n"
     ]
    }
   ],
   "source": [
    "n = int(input(\"Enter Value:\"))\n",
    "f = 1\n",
    "i = 2\n",
    "while i <= n : # Using 'While' in here\n",
    "    f *= i\n",
    "    i += 1\n",
    "print(f'Factorial:{f}')"
   ]
  },
  {
   "cell_type": "code",
   "execution_count": 75,
   "metadata": {},
   "outputs": [
    {
     "name": "stdout",
     "output_type": "stream",
     "text": [
      "0\n",
      "1\n",
      "2\n",
      "3\n",
      "4\n",
      "5\n",
      "6\n",
      "7\n",
      "8\n",
      "9\n"
     ]
    }
   ],
   "source": [
    "c=0\n",
    "while True:\n",
    "    print(c)\n",
    "    c += 1\n",
    "    if c >= 10:\n",
    "        break"
   ]
  },
  {
   "cell_type": "code",
   "execution_count": 80,
   "metadata": {},
   "outputs": [
    {
     "name": "stdout",
     "output_type": "stream",
     "text": [
      "0\n",
      "1\n",
      "2\n",
      "3\n",
      "4\n",
      "count value reached 5\n"
     ]
    }
   ],
   "source": [
    "count = 0\n",
    "while(count<5):\n",
    "    print(count)\n",
    "    count +=1\n",
    "else:\n",
    "    print(\"count value reached %d\" %(count))"
   ]
  },
  {
   "cell_type": "code",
   "execution_count": 73,
   "metadata": {},
   "outputs": [
    {
     "name": "stdout",
     "output_type": "stream",
     "text": [
      "0\n",
      "1\n",
      "2\n",
      "3\n",
      "4\n",
      "5\n",
      "6\n",
      "7\n",
      "8\n",
      "9\n"
     ]
    }
   ],
   "source": [
    "for i in range(10):\n",
    "    print(i)"
   ]
  },
  {
   "cell_type": "code",
   "execution_count": 68,
   "metadata": {},
   "outputs": [
    {
     "name": "stdout",
     "output_type": "stream",
     "text": [
      "1\n",
      "2\n",
      "3\n",
      "4\n",
      "5\n",
      "6\n",
      "7\n",
      "8\n",
      "9\n"
     ]
    }
   ],
   "source": [
    "for i in range(1,10):\n",
    "    print(i)"
   ]
  },
  {
   "cell_type": "code",
   "execution_count": 69,
   "metadata": {},
   "outputs": [
    {
     "name": "stdout",
     "output_type": "stream",
     "text": [
      "3\n",
      "5\n",
      "7\n"
     ]
    }
   ],
   "source": [
    "for i in range(3,8,2):\n",
    "    print(i)"
   ]
  },
  {
   "cell_type": "code",
   "execution_count": 76,
   "metadata": {},
   "outputs": [
    {
     "name": "stdout",
     "output_type": "stream",
     "text": [
      "1\n",
      "3\n",
      "5\n",
      "7\n",
      "9\n"
     ]
    }
   ],
   "source": [
    "for x in range(10):\n",
    "    # Check if x is even\n",
    "    if x % 2 == 0:\n",
    "        continue\n",
    "    print(x)"
   ]
  },
  {
   "cell_type": "code",
   "execution_count": 79,
   "metadata": {},
   "outputs": [
    {
     "name": "stdout",
     "output_type": "stream",
     "text": [
      "0\n",
      "2\n",
      "4\n",
      "6\n",
      "8\n"
     ]
    }
   ],
   "source": [
    "for x in range(10):\n",
    "    # Check if x is odd\n",
    "    if x % 2 == 1:\n",
    "        continue\n",
    "    print(x)"
   ]
  },
  {
   "cell_type": "code",
   "execution_count": null,
   "metadata": {},
   "outputs": [],
   "source": []
  }
 ],
 "metadata": {
  "kernelspec": {
   "display_name": "Python 3",
   "language": "python",
   "name": "python3"
  },
  "language_info": {
   "codemirror_mode": {
    "name": "ipython",
    "version": 3
   },
   "file_extension": ".py",
   "mimetype": "text/x-python",
   "name": "python",
   "nbconvert_exporter": "python",
   "pygments_lexer": "ipython3",
   "version": "3.8.5"
  }
 },
 "nbformat": 4,
 "nbformat_minor": 4
}
