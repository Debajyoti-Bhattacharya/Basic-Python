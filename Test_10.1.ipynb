{
 "cells": [
  {
   "cell_type": "code",
   "execution_count": 1,
   "metadata": {},
   "outputs": [
    {
     "name": "stdout",
     "output_type": "stream",
     "text": [
      "ProjectX\n"
     ]
    }
   ],
   "source": [
    "print('ProjectX')"
   ]
  },
  {
   "cell_type": "markdown",
   "metadata": {},
   "source": [
    "#  General List"
   ]
  },
  {
   "cell_type": "code",
   "execution_count": 2,
   "metadata": {},
   "outputs": [],
   "source": [
    "class Node:\n",
    "    def __init__(self,data=None, link= None):\n",
    "        self.data = data\n",
    "        self.link = link\n",
    "        \n",
    "    def __str__(self):\n",
    "        return str(self.data)"
   ]
  },
  {
   "cell_type": "code",
   "execution_count": 3,
   "metadata": {},
   "outputs": [],
   "source": [
    "class GeneralList:\n",
    "    def __init__(self):\n",
    "        self.head = None\n",
    "        self.count = 0\n",
    "        \n",
    "    def insert(self,pos,data):\n",
    "        if pos < 0 or pos > self.count:\n",
    "            raise Exception(f'Invalid position {pos}')\n",
    "        node = Node(data)\n",
    "        if pos == 0:\n",
    "            node.link = self.head\n",
    "            self.head = node\n",
    "        else:\n",
    "            p = self.head\n",
    "            for i in range(pos-1):\n",
    "                p = p.link\n",
    "                \n",
    "            node.link = p.link\n",
    "            p.link = node\n",
    "            \n",
    "        self.count += 1\n",
    "                \n",
    "    def traverse(self):\n",
    "        count = self.head\n",
    "        while count!= None:\n",
    "            print(count.data, end =' ')\n",
    "            count = count.link"
   ]
  },
  {
   "cell_type": "code",
   "execution_count": 4,
   "metadata": {},
   "outputs": [],
   "source": [
    "a = GeneralList()"
   ]
  },
  {
   "cell_type": "code",
   "execution_count": 5,
   "metadata": {},
   "outputs": [],
   "source": [
    "from random import randint"
   ]
  },
  {
   "cell_type": "code",
   "execution_count": 6,
   "metadata": {},
   "outputs": [
    {
     "name": "stdout",
     "output_type": "stream",
     "text": [
      "76 88 70 83 69 90 62 76 29 69 29 41 30 22 48 17 "
     ]
    }
   ],
   "source": [
    "for i in range(randint(10,20)):\n",
    "    a.insert(i,randint(10,100))\n",
    "a.traverse()"
   ]
  },
  {
   "cell_type": "code",
   "execution_count": 7,
   "metadata": {},
   "outputs": [
    {
     "name": "stdout",
     "output_type": "stream",
     "text": [
      "76 88 70 83 69 90 62 76 29 69 29 41 30 22 48 17 "
     ]
    }
   ],
   "source": [
    "a.traverse()"
   ]
  },
  {
   "cell_type": "code",
   "execution_count": 8,
   "metadata": {},
   "outputs": [
    {
     "name": "stdout",
     "output_type": "stream",
     "text": [
      "Enter position2\n",
      "Enter an integer12\n",
      "Item inserted\n",
      "76 88 12 70 83 69 90 62 76 29 69 29 41 30 22 48 17 "
     ]
    }
   ],
   "source": [
    "try:\n",
    "    p = int(input(\"Enter position\"))\n",
    "    data = int(input(\"Enter an integer\"))\n",
    "    a.insert(p,data)\n",
    "    print('Item inserted')\n",
    "    a.traverse()\n",
    "except Exception as e:\n",
    "    print(e)"
   ]
  },
  {
   "cell_type": "code",
   "execution_count": 9,
   "metadata": {},
   "outputs": [
    {
     "name": "stdout",
     "output_type": "stream",
     "text": [
      "Enter position30\n",
      "Enter an integer12\n",
      "Invalid position 30\n"
     ]
    }
   ],
   "source": [
    "try:\n",
    "    p = int(input(\"Enter position\"))\n",
    "    data = int(input(\"Enter an integer\"))\n",
    "    a.insert(p,data)\n",
    "    print('Item inserted')\n",
    "    a.traverse()\n",
    "except Exception as e:\n",
    "    print(e)"
   ]
  },
  {
   "cell_type": "code",
   "execution_count": 11,
   "metadata": {},
   "outputs": [
    {
     "ename": "TypeError",
     "evalue": "'GeneralList' object is not iterable",
     "output_type": "error",
     "traceback": [
      "\u001b[1;31m---------------------------------------------------------------------------\u001b[0m",
      "\u001b[1;31mTypeError\u001b[0m                                 Traceback (most recent call last)",
      "\u001b[1;32m<ipython-input-11-7015a0e1ecaf>\u001b[0m in \u001b[0;36m<module>\u001b[1;34m\u001b[0m\n\u001b[1;32m----> 1\u001b[1;33m \u001b[1;32mfor\u001b[0m \u001b[0mitem\u001b[0m \u001b[1;32min\u001b[0m \u001b[0ma\u001b[0m\u001b[1;33m:\u001b[0m\u001b[1;33m\u001b[0m\u001b[1;33m\u001b[0m\u001b[0m\n\u001b[0m\u001b[0;32m      2\u001b[0m     \u001b[0mprint\u001b[0m\u001b[1;33m(\u001b[0m\u001b[0mitem\u001b[0m\u001b[1;33m)\u001b[0m\u001b[1;33m\u001b[0m\u001b[1;33m\u001b[0m\u001b[0m\n",
      "\u001b[1;31mTypeError\u001b[0m: 'GeneralList' object is not iterable"
     ]
    }
   ],
   "source": [
    "for item in a:\n",
    "    print(item)"
   ]
  },
  {
   "cell_type": "code",
   "execution_count": 27,
   "metadata": {},
   "outputs": [],
   "source": [
    "class GeneralList:\n",
    "    def __init__(self):\n",
    "        self.head = None\n",
    "        self.count = 0\n",
    "        \n",
    "    def insert(self,pos,data):\n",
    "        if pos < 0 or pos > self.count:\n",
    "            raise Exception(f'Invalid position {pos}')\n",
    "        node = Node(data)\n",
    "        if pos == 0:\n",
    "            node.link = self.head\n",
    "            self.head = node\n",
    "        else:\n",
    "            p = self.head\n",
    "            for i in range(pos-1):\n",
    "                p = p.link\n",
    "                \n",
    "            node.link = p.link\n",
    "            p.link = node\n",
    "            \n",
    "        self.count += 1\n",
    "                \n",
    "    def traverse(self):\n",
    "        count = self.head\n",
    "        while count!= None:\n",
    "            print(count.data, end =' ')\n",
    "            count = count.link\n",
    "    def __iter__(self): # making of iterable\n",
    "        self.current = self.head\n",
    "        return self\n",
    "    def __next__(self):\n",
    "        if self.current == None:\n",
    "            raise StopIteration\n",
    "        data = self.current.data\n",
    "        self.current = self.current.link\n",
    "        return data\n",
    "    #Reverse a list\n",
    "    def reverse(self):\n",
    "        rev = None\n",
    "        while self.head != None:\n",
    "            p = self.head\n",
    "            self.head = p.link\n",
    "            # attach   \n",
    "            p.link = rev\n",
    "            rev = p\n",
    "        self.head = rev \n",
    "    def remove(self,pos): #homework\n",
    "        pass "
   ]
  },
  {
   "cell_type": "code",
   "execution_count": 28,
   "metadata": {},
   "outputs": [],
   "source": [
    "a = GeneralList()"
   ]
  },
  {
   "cell_type": "code",
   "execution_count": 29,
   "metadata": {},
   "outputs": [],
   "source": [
    "for i in range(randint(10,20)):\n",
    "    a.insert(i,randint(10,100))"
   ]
  },
  {
   "cell_type": "code",
   "execution_count": 30,
   "metadata": {},
   "outputs": [
    {
     "name": "stdout",
     "output_type": "stream",
     "text": [
      "100\n",
      "60\n",
      "62\n",
      "71\n",
      "81\n",
      "64\n",
      "44\n",
      "15\n",
      "36\n",
      "10\n",
      "81\n",
      "86\n",
      "95\n",
      "100\n",
      "18\n",
      "78\n",
      "22\n"
     ]
    }
   ],
   "source": [
    "for item in a:\n",
    "    print(item)"
   ]
  },
  {
   "cell_type": "code",
   "execution_count": 24,
   "metadata": {},
   "outputs": [
    {
     "name": "stdout",
     "output_type": "stream",
     "text": [
      "76\n",
      "88\n",
      "10\n",
      "17\n",
      "28\n",
      "16\n",
      "95\n",
      "68\n",
      "68\n",
      "12\n",
      "72\n",
      "10\n",
      "45\n"
     ]
    }
   ],
   "source": [
    "curr = a.head # Danger it will excute\n",
    "while a.head != None:\n",
    "    print(a.head.data)\n",
    "    a.head = a.head.link"
   ]
  },
  {
   "cell_type": "code",
   "execution_count": 31,
   "metadata": {},
   "outputs": [],
   "source": [
    "a.reverse()"
   ]
  },
  {
   "cell_type": "code",
   "execution_count": 32,
   "metadata": {},
   "outputs": [
    {
     "name": "stdout",
     "output_type": "stream",
     "text": [
      "22\n",
      "78\n",
      "18\n",
      "100\n",
      "95\n",
      "86\n",
      "81\n",
      "10\n",
      "36\n",
      "15\n",
      "44\n",
      "64\n",
      "81\n",
      "71\n",
      "62\n",
      "60\n",
      "100\n"
     ]
    }
   ],
   "source": [
    "for item in a:\n",
    "    print(item)"
   ]
  },
  {
   "cell_type": "code",
   "execution_count": null,
   "metadata": {},
   "outputs": [],
   "source": []
  },
  {
   "cell_type": "code",
   "execution_count": null,
   "metadata": {},
   "outputs": [],
   "source": []
  }
 ],
 "metadata": {
  "kernelspec": {
   "display_name": "Python 3",
   "language": "python",
   "name": "python3"
  },
  "language_info": {
   "codemirror_mode": {
    "name": "ipython",
    "version": 3
   },
   "file_extension": ".py",
   "mimetype": "text/x-python",
   "name": "python",
   "nbconvert_exporter": "python",
   "pygments_lexer": "ipython3",
   "version": "3.7.1"
  }
 },
 "nbformat": 4,
 "nbformat_minor": 2
}
