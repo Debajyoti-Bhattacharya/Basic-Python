{
 "cells": [
  {
   "cell_type": "markdown",
   "metadata": {},
   "source": [
    "# OOPs(2)"
   ]
  },
  {
   "cell_type": "code",
   "execution_count": 68,
   "metadata": {},
   "outputs": [],
   "source": [
    "class Human:\n",
    "    def __init__(self,name = '',age = 18):\n",
    "        self.name = name\n",
    "        self.age = age \n",
    "        \n",
    "    def smile(self):\n",
    "        if self.age < 18:\n",
    "            print(f'{self.name}: hee hee')\n",
    "        else:\n",
    "            print(f'{self.name}: hoo hoo')\n",
    "    def cry(self):\n",
    "        if self.age > 18:\n",
    "            print(f'{self.name}: sed life')\n",
    "        else:\n",
    "            print(f'{self.name}: sad life')        "
   ]
  },
  {
   "cell_type": "code",
   "execution_count": 69,
   "metadata": {},
   "outputs": [],
   "source": [
    "h1 = Human('Future',19)"
   ]
  },
  {
   "cell_type": "code",
   "execution_count": 70,
   "metadata": {},
   "outputs": [
    {
     "name": "stdout",
     "output_type": "stream",
     "text": [
      "Future: sed life\n"
     ]
    }
   ],
   "source": [
    "h1.cry()"
   ]
  },
  {
   "cell_type": "code",
   "execution_count": 71,
   "metadata": {},
   "outputs": [
    {
     "name": "stdout",
     "output_type": "stream",
     "text": [
      "Future: hoo hoo\n"
     ]
    }
   ],
   "source": [
    "h1.smile()"
   ]
  },
  {
   "cell_type": "code",
   "execution_count": 72,
   "metadata": {},
   "outputs": [],
   "source": [
    "h = Human('Present', 17)"
   ]
  },
  {
   "cell_type": "code",
   "execution_count": 73,
   "metadata": {},
   "outputs": [
    {
     "name": "stdout",
     "output_type": "stream",
     "text": [
      "Present: sad life\n"
     ]
    }
   ],
   "source": [
    "h.cry()"
   ]
  },
  {
   "cell_type": "code",
   "execution_count": null,
   "metadata": {},
   "outputs": [],
   "source": []
  },
  {
   "cell_type": "code",
   "execution_count": 74,
   "metadata": {},
   "outputs": [],
   "source": [
    "class Human(object):\n",
    "    def __init__(self,name = '',age = 18):\n",
    "        self.name = name\n",
    "        self.age = age \n",
    "        \n",
    "    def smile(self):\n",
    "        if self.age < 18:\n",
    "            print(f'{self.name}: hee hee')\n",
    "        else:\n",
    "            print(f'{self.name}: hoo hoo')\n",
    "            \n",
    "    def __setattr__(self,attr,val):\n",
    "        if attr == 'age':\n",
    "            #self.age = val if val >= 0 else -val\n",
    "           # object.__setattr__(self,attr, val if val >= 0 else -val)\n",
    "           self.__dict__['age'] = val if val >= 0 else -val\n",
    "        else:\n",
    "           # object.__setattr__(self,attr,val)\n",
    "             self.__dict__[attr] = val"
   ]
  },
  {
   "cell_type": "code",
   "execution_count": 75,
   "metadata": {},
   "outputs": [],
   "source": [
    "h2 = Human('Future',-19)"
   ]
  },
  {
   "cell_type": "code",
   "execution_count": 76,
   "metadata": {},
   "outputs": [
    {
     "data": {
      "text/plain": [
       "{'name': 'Future', 'age': 19}"
      ]
     },
     "execution_count": 76,
     "metadata": {},
     "output_type": "execute_result"
    }
   ],
   "source": [
    "h2.__dict__ # Magical keyword to find out the data attributes of objects in a single dictionary "
   ]
  },
  {
   "cell_type": "code",
   "execution_count": 77,
   "metadata": {},
   "outputs": [],
   "source": [
    "h2.__dict__['age'] = -18"
   ]
  },
  {
   "cell_type": "code",
   "execution_count": 78,
   "metadata": {},
   "outputs": [
    {
     "data": {
      "text/plain": [
       "-18"
      ]
     },
     "execution_count": 78,
     "metadata": {},
     "output_type": "execute_result"
    }
   ],
   "source": [
    "h2.age"
   ]
  },
  {
   "cell_type": "code",
   "execution_count": 79,
   "metadata": {},
   "outputs": [
    {
     "data": {
      "text/plain": [
       "'Future'"
      ]
     },
     "execution_count": 79,
     "metadata": {},
     "output_type": "execute_result"
    }
   ],
   "source": [
    "h2.name"
   ]
  },
  {
   "cell_type": "code",
   "execution_count": 80,
   "metadata": {},
   "outputs": [
    {
     "name": "stdout",
     "output_type": "stream",
     "text": [
      "<__main__.Human object at 0x0000000006B07518>\n"
     ]
    }
   ],
   "source": [
    "print(h2)"
   ]
  },
  {
   "cell_type": "code",
   "execution_count": 81,
   "metadata": {},
   "outputs": [
    {
     "data": {
      "text/plain": [
       "__main__.Human"
      ]
     },
     "execution_count": 81,
     "metadata": {},
     "output_type": "execute_result"
    }
   ],
   "source": [
    "type(h2)"
   ]
  },
  {
   "cell_type": "code",
   "execution_count": 82,
   "metadata": {},
   "outputs": [],
   "source": [
    "class Human(object):\n",
    "    def __init__(self,name = '',age = 18):\n",
    "        self.name = name\n",
    "        self.age = age \n",
    "        \n",
    "    def smile(self):\n",
    "        if self.age < 18:\n",
    "            print(f'{self.name}: hee hee')\n",
    "        else:\n",
    "            print(f'{self.name}: hoo hoo')\n",
    "            \n",
    "    def __setattr__(self,attr,val):\n",
    "        if attr == 'age':\n",
    "            #self.age = val if val >= 0 else -val\n",
    "           # object.__setattr__(self,attr, val if val >= 0 else -val)\n",
    "           self.__dict__['age'] = val if val >= 0 else -val\n",
    "        else:\n",
    "           # object.__setattr__(self,attr,val)\n",
    "             self.__dict__[attr] = val\n",
    "    def __str__(self):\n",
    "        return f'name:{self.name}, Age: {self.age}'\n",
    "        "
   ]
  },
  {
   "cell_type": "code",
   "execution_count": 83,
   "metadata": {},
   "outputs": [
    {
     "name": "stdout",
     "output_type": "stream",
     "text": [
      "name:Past, Age: 1947\n"
     ]
    }
   ],
   "source": [
    "h3 = Human('Past',1947)\n",
    "print(h3)"
   ]
  },
  {
   "cell_type": "code",
   "execution_count": 84,
   "metadata": {},
   "outputs": [
    {
     "data": {
      "text/plain": [
       "'name:Past, Age: 1947'"
      ]
     },
     "execution_count": 84,
     "metadata": {},
     "output_type": "execute_result"
    }
   ],
   "source": [
    "str(h3)"
   ]
  },
  {
   "cell_type": "code",
   "execution_count": 85,
   "metadata": {},
   "outputs": [
    {
     "name": "stdout",
     "output_type": "stream",
     "text": [
      "Human is name:Past, Age: 1947\n"
     ]
    }
   ],
   "source": [
    "print('Human is', str(h3))"
   ]
  },
  {
   "cell_type": "code",
   "execution_count": null,
   "metadata": {},
   "outputs": [],
   "source": []
  },
  {
   "cell_type": "code",
   "execution_count": null,
   "metadata": {},
   "outputs": [],
   "source": []
  },
  {
   "cell_type": "code",
   "execution_count": null,
   "metadata": {},
   "outputs": [],
   "source": []
  }
 ],
 "metadata": {
  "kernelspec": {
   "display_name": "Python 3",
   "language": "python",
   "name": "python3"
  },
  "language_info": {
   "codemirror_mode": {
    "name": "ipython",
    "version": 3
   },
   "file_extension": ".py",
   "mimetype": "text/x-python",
   "name": "python",
   "nbconvert_exporter": "python",
   "pygments_lexer": "ipython3",
   "version": "3.7.1"
  }
 },
 "nbformat": 4,
 "nbformat_minor": 2
}
