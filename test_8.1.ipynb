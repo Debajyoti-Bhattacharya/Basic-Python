{
 "cells": [
  {
   "cell_type": "markdown",
   "metadata": {},
   "source": [
    "# OOPs(3)"
   ]
  },
  {
   "cell_type": "code",
   "execution_count": 38,
   "metadata": {},
   "outputs": [],
   "source": [
    "class Rectangle:\n",
    "    def __init__(self,length = 0.0,breadth = 0.0):\n",
    "        self.length = length\n",
    "        self.breadth = breadth\n",
    "        \n",
    "    def __setattr__(self,attr,val):\n",
    "        if attr == 'length' or attr == 'breadth':\n",
    "            self.__dict__[attr] = val if val >= 0.0 else -val\n",
    "        else:\n",
    "            self.__dict__[attr] = val\n",
    "            \n",
    "    def __str__(self):\n",
    "        return f'Rectangle(length:{self.length},breadth:{self.breadth})'"
   ]
  },
  {
   "cell_type": "code",
   "execution_count": 39,
   "metadata": {},
   "outputs": [],
   "source": [
    "r1 = Rectangle(12.0,5.0)"
   ]
  },
  {
   "cell_type": "code",
   "execution_count": 40,
   "metadata": {},
   "outputs": [
    {
     "data": {
      "text/plain": [
       "<__main__.Rectangle at 0x50744a8>"
      ]
     },
     "execution_count": 40,
     "metadata": {},
     "output_type": "execute_result"
    }
   ],
   "source": [
    "r1"
   ]
  },
  {
   "cell_type": "code",
   "execution_count": 41,
   "metadata": {},
   "outputs": [
    {
     "name": "stdout",
     "output_type": "stream",
     "text": [
      "Rectangle(length:12.0,breadth:5.0)\n"
     ]
    }
   ],
   "source": [
    "print(r1)"
   ]
  },
  {
   "cell_type": "code",
   "execution_count": 42,
   "metadata": {},
   "outputs": [],
   "source": [
    "class Rectangle:\n",
    "    def __init__(self,length = 0.0,breadth = 0.0):\n",
    "        self.length = length\n",
    "        self.breadth = breadth\n",
    "        \n",
    "    def __setattr__(self,attr,val):\n",
    "        if attr == 'length' or attr == 'breadth':\n",
    "            self.__dict__[attr] = val if val >= 0.0 else -val\n",
    "        else:\n",
    "            self.__dict__[attr] = val\n",
    "            \n",
    "    def __str__(self):\n",
    "        return f'Rectangle(length:{self.length},breadth:{self.breadth})'\n",
    "    def __getattr__(self,attr):\n",
    "        if attr == 'area':\n",
    "            return self.length*self.breadth\n",
    "        elif attr == 'perimeter':\n",
    "            return 2*(self.length+self.breadth)"
   ]
  },
  {
   "cell_type": "code",
   "execution_count": 43,
   "metadata": {},
   "outputs": [],
   "source": [
    "r1 = Rectangle(12.0,5.0)"
   ]
  },
  {
   "cell_type": "code",
   "execution_count": 44,
   "metadata": {},
   "outputs": [
    {
     "data": {
      "text/plain": [
       "60.0"
      ]
     },
     "execution_count": 44,
     "metadata": {},
     "output_type": "execute_result"
    }
   ],
   "source": [
    "r1.area"
   ]
  },
  {
   "cell_type": "code",
   "execution_count": 45,
   "metadata": {},
   "outputs": [
    {
     "data": {
      "text/plain": [
       "34.0"
      ]
     },
     "execution_count": 45,
     "metadata": {},
     "output_type": "execute_result"
    }
   ],
   "source": [
    "r1.perimeter"
   ]
  },
  {
   "cell_type": "code",
   "execution_count": 46,
   "metadata": {},
   "outputs": [
    {
     "data": {
      "text/plain": [
       "{'length': 12.0, 'breadth': 5.0}"
      ]
     },
     "execution_count": 46,
     "metadata": {},
     "output_type": "execute_result"
    }
   ],
   "source": [
    "r1.__dict__"
   ]
  },
  {
   "cell_type": "code",
   "execution_count": 47,
   "metadata": {},
   "outputs": [],
   "source": [
    "r2 = Rectangle(7,13)"
   ]
  },
  {
   "cell_type": "code",
   "execution_count": 48,
   "metadata": {},
   "outputs": [
    {
     "ename": "TypeError",
     "evalue": "unsupported operand type(s) for +: 'Rectangle' and 'Rectangle'",
     "output_type": "error",
     "traceback": [
      "\u001b[1;31m---------------------------------------------------------------------------\u001b[0m",
      "\u001b[1;31mTypeError\u001b[0m                                 Traceback (most recent call last)",
      "\u001b[1;32m<ipython-input-48-e6d583e738a7>\u001b[0m in \u001b[0;36m<module>\u001b[1;34m\u001b[0m\n\u001b[1;32m----> 1\u001b[1;33m \u001b[0mr\u001b[0m \u001b[1;33m=\u001b[0m \u001b[0mr1\u001b[0m \u001b[1;33m+\u001b[0m \u001b[0mr2\u001b[0m\u001b[1;33m\u001b[0m\u001b[1;33m\u001b[0m\u001b[0m\n\u001b[0m",
      "\u001b[1;31mTypeError\u001b[0m: unsupported operand type(s) for +: 'Rectangle' and 'Rectangle'"
     ]
    }
   ],
   "source": [
    "r = r1 + r2"
   ]
  },
  {
   "cell_type": "code",
   "execution_count": 49,
   "metadata": {},
   "outputs": [],
   "source": [
    "class Rectangle:\n",
    "    def __init__(self,length = 0.0,breadth = 0.0):\n",
    "        self.length = length\n",
    "        self.breadth = breadth\n",
    "        \n",
    "    def __setattr__(self,attr,val):\n",
    "        if attr == 'length' or attr == 'breadth':\n",
    "            self.__dict__[attr] = val if val >= 0.0 else -val\n",
    "        else:\n",
    "            self.__dict__[attr] = val\n",
    "            \n",
    "    def __str__(self):\n",
    "        return f'Rectangle(length:{self.length},breadth:{self.breadth})'\n",
    "    def __getattr__(self,attr):\n",
    "        if attr == 'area':\n",
    "            return self.length*self.breadth\n",
    "        elif attr == 'perimeter':\n",
    "            return 2*(self.length+self.breadth)\n",
    "    def __add__(self,r):\n",
    "        return Rectangle(self.length + r.length,self.breadth + r.breadth)"
   ]
  },
  {
   "cell_type": "code",
   "execution_count": 50,
   "metadata": {},
   "outputs": [],
   "source": [
    "r1 = Rectangle(12.0,5.0)"
   ]
  },
  {
   "cell_type": "code",
   "execution_count": 51,
   "metadata": {},
   "outputs": [],
   "source": [
    "r2 = Rectangle(7,13)"
   ]
  },
  {
   "cell_type": "code",
   "execution_count": 52,
   "metadata": {},
   "outputs": [
    {
     "name": "stdout",
     "output_type": "stream",
     "text": [
      "Rectangle(length:19.0,breadth:18.0)\n"
     ]
    }
   ],
   "source": [
    "r = r1 + r2 # r = r1.__add__(r2)\n",
    "print(r)"
   ]
  },
  {
   "cell_type": "markdown",
   "metadata": {},
   "source": [
    "# Static properties"
   ]
  },
  {
   "cell_type": "code",
   "execution_count": 53,
   "metadata": {},
   "outputs": [],
   "source": [
    "class Rectangle:\n",
    "    count = 0\n",
    "    def __init__(self,length = 0.0,breadth = 0.0):\n",
    "        self.length = length\n",
    "        self.breadth = breadth\n",
    "        Rectangle.count+=1\n",
    "        \n",
    "    def __setattr__(self,attr,val):\n",
    "        if attr == 'length' or attr == 'breadth':\n",
    "            self.__dict__[attr] = val if val >= 0.0 else -val\n",
    "        else:\n",
    "            self.__dict__[attr] = val\n",
    "            \n",
    "    def __str__(self):\n",
    "        return f'Rectangle(length:{self.length},breadth:{self.breadth})'\n",
    "    def __getattr__(self,attr):\n",
    "        if attr == 'area':\n",
    "            return self.length*self.breadth\n",
    "        elif attr == 'perimeter':\n",
    "            return 2*(self.length+self.breadth)\n",
    "    def __add__(self,r):\n",
    "        return Rectangle(self.length + r.length,self.breadth + r.breadth)"
   ]
  },
  {
   "cell_type": "code",
   "execution_count": 54,
   "metadata": {},
   "outputs": [],
   "source": [
    "r1 = Rectangle(12.0,5.0)\n",
    "r2 = Rectangle(7,13)"
   ]
  },
  {
   "cell_type": "code",
   "execution_count": 55,
   "metadata": {},
   "outputs": [
    {
     "data": {
      "text/plain": [
       "2"
      ]
     },
     "execution_count": 55,
     "metadata": {},
     "output_type": "execute_result"
    }
   ],
   "source": [
    "Rectangle.count"
   ]
  },
  {
   "cell_type": "code",
   "execution_count": 56,
   "metadata": {},
   "outputs": [],
   "source": [
    "class Square(Rectangle):\n",
    "    def __init__(self,length):\n",
    "        super().__init__(length,length)\n",
    "            \n",
    "    def __str__(self):\n",
    "        return f'Square(length:{self.length},breadth:{self.breadth})'"
   ]
  },
  {
   "cell_type": "code",
   "execution_count": 57,
   "metadata": {},
   "outputs": [],
   "source": [
    "s = Square(12)"
   ]
  },
  {
   "cell_type": "code",
   "execution_count": 58,
   "metadata": {},
   "outputs": [
    {
     "data": {
      "text/plain": [
       "12"
      ]
     },
     "execution_count": 58,
     "metadata": {},
     "output_type": "execute_result"
    }
   ],
   "source": [
    "s.length"
   ]
  },
  {
   "cell_type": "code",
   "execution_count": 59,
   "metadata": {},
   "outputs": [
    {
     "data": {
      "text/plain": [
       "144"
      ]
     },
     "execution_count": 59,
     "metadata": {},
     "output_type": "execute_result"
    }
   ],
   "source": [
    "s.area"
   ]
  },
  {
   "cell_type": "code",
   "execution_count": 60,
   "metadata": {},
   "outputs": [
    {
     "name": "stdout",
     "output_type": "stream",
     "text": [
      "Square(length:12,breadth:12)\n"
     ]
    }
   ],
   "source": [
    "print(s)"
   ]
  },
  {
   "cell_type": "code",
   "execution_count": 61,
   "metadata": {},
   "outputs": [
    {
     "data": {
      "text/plain": [
       "__main__.Square"
      ]
     },
     "execution_count": 61,
     "metadata": {},
     "output_type": "execute_result"
    }
   ],
   "source": [
    "s.__class__"
   ]
  },
  {
   "cell_type": "code",
   "execution_count": 62,
   "metadata": {},
   "outputs": [],
   "source": [
    "class Rectangle:\n",
    "    count = 0\n",
    "    def __init__(self,length = 0.0,breadth = 0.0):\n",
    "        self.length = length\n",
    "        self.breadth = breadth\n",
    "        Rectangle.count+=1\n",
    "        \n",
    "    def __setattr__(self,attr,val):\n",
    "        if attr == 'length' or attr == 'breadth':\n",
    "            self.__dict__[attr] = val if val >= 0.0 else -val\n",
    "        else:\n",
    "            self.__dict__[attr] = val\n",
    "            \n",
    "    def __str__(self):\n",
    "        #return f'Rectangle(length:{self.length},breadth:{self.breadth})'\n",
    "        return f'{self.__class__}(length:{self.length},breadth:{self.breadth})'\n",
    "    def __getattr__(self,attr):\n",
    "        if attr == 'area':\n",
    "            return self.length*self.breadth\n",
    "        elif attr == 'perimeter':\n",
    "            return 2*(self.length+self.breadth)\n",
    "    def __add__(self,r):\n",
    "        return Rectangle(self.length + r.length,self.breadth + r.breadth)"
   ]
  },
  {
   "cell_type": "code",
   "execution_count": 63,
   "metadata": {},
   "outputs": [],
   "source": [
    "class Square(Rectangle):\n",
    "    def __init__(self,length):\n",
    "        super().__init__(length,length)\n",
    "    '''        \n",
    "    def __str__(self):\n",
    "        return f'Square(length:{self.length},breadth:{self.breadth})'\n",
    "    '''"
   ]
  },
  {
   "cell_type": "code",
   "execution_count": 64,
   "metadata": {},
   "outputs": [],
   "source": [
    "s = Square(12)"
   ]
  },
  {
   "cell_type": "code",
   "execution_count": 65,
   "metadata": {},
   "outputs": [
    {
     "data": {
      "text/plain": [
       "12"
      ]
     },
     "execution_count": 65,
     "metadata": {},
     "output_type": "execute_result"
    }
   ],
   "source": [
    "s.length"
   ]
  },
  {
   "cell_type": "code",
   "execution_count": 66,
   "metadata": {},
   "outputs": [
    {
     "name": "stdout",
     "output_type": "stream",
     "text": [
      "<class '__main__.Square'>(length:12,breadth:12)\n"
     ]
    }
   ],
   "source": [
    "print(s)"
   ]
  },
  {
   "cell_type": "code",
   "execution_count": 67,
   "metadata": {},
   "outputs": [
    {
     "data": {
      "text/plain": [
       "__main__.Square"
      ]
     },
     "execution_count": 67,
     "metadata": {},
     "output_type": "execute_result"
    }
   ],
   "source": [
    "s.__class__"
   ]
  },
  {
   "cell_type": "code",
   "execution_count": null,
   "metadata": {},
   "outputs": [],
   "source": []
  },
  {
   "cell_type": "code",
   "execution_count": null,
   "metadata": {},
   "outputs": [],
   "source": []
  }
 ],
 "metadata": {
  "kernelspec": {
   "display_name": "Python 3",
   "language": "python",
   "name": "python3"
  },
  "language_info": {
   "codemirror_mode": {
    "name": "ipython",
    "version": 3
   },
   "file_extension": ".py",
   "mimetype": "text/x-python",
   "name": "python",
   "nbconvert_exporter": "python",
   "pygments_lexer": "ipython3",
   "version": "3.7.1"
  }
 },
 "nbformat": 4,
 "nbformat_minor": 2
}
