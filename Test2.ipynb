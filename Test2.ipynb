{
 "cells": [
  {
   "cell_type": "markdown",
   "metadata": {},
   "source": [
    "# FLOW OF CONTROL"
   ]
  },
  {
   "cell_type": "markdown",
   "metadata": {},
   "source": [
    "## SEQUENTIAL\n",
    "## CONDITION\n",
    "## ITERATIVE"
   ]
  },
  {
   "cell_type": "code",
   "execution_count": 8,
   "metadata": {},
   "outputs": [
    {
     "name": "stdout",
     "output_type": "stream",
     "text": [
      "Enter your marks:55\n",
      "END\n"
     ]
    }
   ],
   "source": [
    "marks = int(input(\"Enter your marks:\"))\n",
    "if marks >= 80:\n",
    "    print('Grade \"A\"')\n",
    "print('END')"
   ]
  },
  {
   "cell_type": "code",
   "execution_count": 10,
   "metadata": {},
   "outputs": [
    {
     "name": "stdout",
     "output_type": "stream",
     "text": [
      "Enter your marks:55\n",
      "BAD\n",
      "END\n"
     ]
    }
   ],
   "source": [
    "marks = int(input(\"Enter your marks:\"))\n",
    "if marks >= 80:\n",
    "    print('Grade \"A\"')\n",
    "else:\n",
    "    print('BAD')\n",
    "print('END')"
   ]
  },
  {
   "cell_type": "code",
   "execution_count": 13,
   "metadata": {},
   "outputs": [
    {
     "name": "stdout",
     "output_type": "stream",
     "text": [
      "Enter your marks:85\n",
      "Grade \"A\"\n",
      "END\n"
     ]
    }
   ],
   "source": [
    "marks = int(input(\"Enter your marks:\"))\n",
    "if marks >= 80 and marks <= 100:\n",
    "    print('Grade \"A\"')\n",
    "else:\n",
    "    print('BAD')\n",
    "print('END')"
   ]
  },
  {
   "cell_type": "code",
   "execution_count": 14,
   "metadata": {},
   "outputs": [
    {
     "name": "stdout",
     "output_type": "stream",
     "text": [
      "Enter your marks:55\n",
      "Grade = C\n"
     ]
    }
   ],
   "source": [
    "marks = int(input(\"Enter your marks:\"))\n",
    "if marks >= 80 and marks <= 100:\n",
    "    grade = 'A'\n",
    "else:\n",
    "    if marks >=60:\n",
    "        grade = 'B'\n",
    "    else:\n",
    "        if marks >=40:\n",
    "             grade = 'C'\n",
    "        else:\n",
    "             grade = 'D'\n",
    "print(f'Grade = {grade}')"
   ]
  },
  {
   "cell_type": "code",
   "execution_count": 15,
   "metadata": {},
   "outputs": [
    {
     "name": "stdout",
     "output_type": "stream",
     "text": [
      "Enter your marks:95\n",
      "Grade = A++\n"
     ]
    }
   ],
   "source": [
    "marks = int(input(\"Enter your marks:\"))\n",
    "if marks >= 80 and marks <= 100:\n",
    "    grade = 'A'\n",
    "    if marks >= 90:\n",
    "        grade = 'A++'\n",
    "else:\n",
    "    if marks >=60:\n",
    "        grade = 'B'\n",
    "    else:\n",
    "        if marks >=40:\n",
    "             grade = 'C'\n",
    "        else:\n",
    "             grade = 'D'\n",
    "print(f'Grade = {grade}')"
   ]
  },
  {
   "cell_type": "code",
   "execution_count": 16,
   "metadata": {},
   "outputs": [
    {
     "name": "stdout",
     "output_type": "stream",
     "text": [
      "Enter your marks:81\n",
      "Grade = A\n"
     ]
    }
   ],
   "source": [
    "marks = int(input(\"Enter your marks:\"))\n",
    "if marks >= 80 and marks <= 100:\n",
    "    grade = 'A'\n",
    "    if marks >= 90:\n",
    "        grade = 'A++'\n",
    "elif marks >=60:\n",
    "    grade = 'B'\n",
    "elif marks >=40:\n",
    "     grade = 'C'\n",
    "else:\n",
    "    grade = 'D'\n",
    "print(f'Grade = {grade}')"
   ]
  },
  {
   "cell_type": "markdown",
   "metadata": {},
   "source": [
    "# Conditional Operator in C\n",
    "### x ? y : z --> y if x else z\n",
    "### x + y - z"
   ]
  },
  {
   "cell_type": "code",
   "execution_count": 23,
   "metadata": {},
   "outputs": [
    {
     "name": "stdout",
     "output_type": "stream",
     "text": [
      "Enter marks:45\n",
      "C\n"
     ]
    }
   ],
   "source": [
    "marks = int(input('Enter marks:'))\n",
    "print('A' if marks>=80 else 'B' if marks>=60 and marks <=80 else 'C'if marks>=40 and marks <=60 else 'D' )"
   ]
  },
  {
   "cell_type": "markdown",
   "metadata": {},
   "source": [
    "# Divide and Conquer \n",
    "### make_tea(6) split into a small parts such as (a) make_tea(3), (b) make_tea(3)\n",
    "### must be same in nature \n",
    "### P is divided into sub-problems p1 & p2 and so on\n",
    "### If there is high probality of same sub problem then it is more time consuming\n",
    "### DP is more helpful to use for repeated sub problems \n",
    "### FACTORIAL RECURSIVE DEFINATION\n",
    "### fact(n) = n*fact(n-1) if n>=0"
   ]
  },
  {
   "cell_type": "code",
   "execution_count": 24,
   "metadata": {},
   "outputs": [
    {
     "name": "stdout",
     "output_type": "stream",
     "text": [
      "120\n"
     ]
    }
   ],
   "source": [
    "def factorial(n):\n",
    "    return 1 if n == 0 else n*factorial(n-1)\n",
    "print(factorial(5))\n",
    "    "
   ]
  },
  {
   "cell_type": "markdown",
   "metadata": {},
   "source": [
    "# Fibbonacci Series\n",
    "### fibo(n) = 0 if n == 1\n",
    "### fibo(n) = 1 if n== 2\n",
    "### fibo(n-2) + fibo(n-1) Otherwise"
   ]
  },
  {
   "cell_type": "code",
   "execution_count": 25,
   "metadata": {},
   "outputs": [
    {
     "name": "stdout",
     "output_type": "stream",
     "text": [
      "1\n"
     ]
    }
   ],
   "source": [
    "def fibo(n):\n",
    "    return 0 if n ==1 else 1 if n == 2 else fibo(n-2) +fibo(n-1) \n",
    "print(fibo(3))"
   ]
  },
  {
   "cell_type": "markdown",
   "metadata": {},
   "source": [
    "# LOOPS\n",
    "### For and While\n",
    "### Counter Control Loop and sentinel Control Loop\n",
    "### CCL - Iterative \n",
    "### SCL - Number does not define here"
   ]
  },
  {
   "cell_type": "code",
   "execution_count": 30,
   "metadata": {},
   "outputs": [
    {
     "name": "stdout",
     "output_type": "stream",
     "text": [
      "Enter n:5\n",
      "Factorial:120\n"
     ]
    }
   ],
   "source": [
    "n = int(input(\"Enter n:\"))\n",
    "f = 1\n",
    "i = 2\n",
    "while i <= n :\n",
    "    f *= i\n",
    "    i += 1\n",
    "print(f'Factorial:{f}')"
   ]
  }
 ],
 "metadata": {
  "kernelspec": {
   "display_name": "Python 3",
   "language": "python",
   "name": "python3"
  },
  "language_info": {
   "codemirror_mode": {
    "name": "ipython",
    "version": 3
   },
   "file_extension": ".py",
   "mimetype": "text/x-python",
   "name": "python",
   "nbconvert_exporter": "python",
   "pygments_lexer": "ipython3",
   "version": "3.7.1"
  }
 },
 "nbformat": 4,
 "nbformat_minor": 2
}
